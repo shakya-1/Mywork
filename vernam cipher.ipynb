{
 "cells": [
  {
   "cell_type": "code",
   "execution_count": 13,
   "metadata": {
    "scrolled": true
   },
   "outputs": [
    {
     "name": "stdout",
     "output_type": "stream",
     "text": [
      "Enter any text: Hi RouNak KaiSe Ho\n"
     ]
    }
   ],
   "source": [
    "plain = input(\"Enter any text: \")"
   ]
  },
  {
   "cell_type": "code",
   "execution_count": 14,
   "metadata": {},
   "outputs": [],
   "source": [
    "l=[]\n",
    "j=0\n",
    "for i in plain:\n",
    "    if(ord(i)>=65 and ord(i)<=90):\n",
    "        l.append(j)\n",
    "        j=j+1\n",
    "    else:\n",
    "        j=j+1"
   ]
  },
  {
   "cell_type": "code",
   "execution_count": 15,
   "metadata": {
    "scrolled": false
   },
   "outputs": [
    {
     "name": "stdout",
     "output_type": "stream",
     "text": [
      "Enter key: re tuyjks kshuf hu\n"
     ]
    }
   ],
   "source": [
    "key = input(\"Enter key: \")"
   ]
  },
  {
   "cell_type": "code",
   "execution_count": 16,
   "metadata": {},
   "outputs": [
    {
     "name": "stdout",
     "output_type": "stream",
     "text": [
      "Vernam Cipher\n"
     ]
    }
   ],
   "source": [
    "if(len(plain)!=len(key)):\n",
    "    print(\"Not possible because plain text and key size is different.\")\n",
    "    exit(0)\n",
    "else:\n",
    "    print(\"Vernam Cipher\")"
   ]
  },
  {
   "cell_type": "code",
   "execution_count": 17,
   "metadata": {},
   "outputs": [],
   "source": [
    "def chartonum(text):\n",
    "    x=[]\n",
    "    text=text.upper()\n",
    "    for ch in text:\n",
    "        p=ord(ch)\n",
    "        x.append(p-65)\n",
    "    return x    "
   ]
  },
  {
   "cell_type": "markdown",
   "metadata": {},
   "source": [
    "# Generation of Cipher Text"
   ]
  },
  {
   "cell_type": "code",
   "execution_count": 18,
   "metadata": {
    "scrolled": false
   },
   "outputs": [
    {
     "name": "stdout",
     "output_type": "stream",
     "text": [
      "[7, 8, -33, 17, 14, 20, 13, 0, 10, -33, 10, 0, 8, 18, 4, -33, 7, 14]\n"
     ]
    }
   ],
   "source": [
    "y=chartonum(plain)\n",
    "print(y)"
   ]
  },
  {
   "cell_type": "code",
   "execution_count": 19,
   "metadata": {},
   "outputs": [],
   "source": [
    "y_list=[]\n",
    "for i in range(len(y)):\n",
    "    if(y[i]==-33):\n",
    "        y_list.append(i)"
   ]
  },
  {
   "cell_type": "code",
   "execution_count": 20,
   "metadata": {},
   "outputs": [
    {
     "name": "stdout",
     "output_type": "stream",
     "text": [
      "[17, 4, -33, 19, 20, 24, 9, 10, 18, -33, 10, 18, 7, 20, 5, -33, 7, 20]\n"
     ]
    }
   ],
   "source": [
    "z=chartonum(key)\n",
    "print(z)"
   ]
  },
  {
   "cell_type": "code",
   "execution_count": 21,
   "metadata": {},
   "outputs": [
    {
     "data": {
      "text/plain": [
       "[24, 12, -66, 10, 8, 18, 22, 10, 2, -66, 20, 18, 15, 12, 9, -66, 14, 8]"
      ]
     },
     "execution_count": 21,
     "metadata": {},
     "output_type": "execute_result"
    }
   ],
   "source": [
    "cipher_num=[]\n",
    "for i in range(len(plain)):\n",
    "    t=y[i]+z[i]\n",
    "    if(t>26):\n",
    "        cipher_num.append(t-26)\n",
    "    else:\n",
    "        cipher_num.append(t)\n",
    "cipher_num    "
   ]
  },
  {
   "cell_type": "code",
   "execution_count": 22,
   "metadata": {},
   "outputs": [
    {
     "name": "stdout",
     "output_type": "stream",
     "text": [
      "Cipher text is: \n",
      "Ym KisWkc UspMj Oi"
     ]
    }
   ],
   "source": [
    "list2=[]\n",
    "for i in range(len(cipher_num)):\n",
    "    if(cipher_num[i]<0):\n",
    "        list2.append(i)\n",
    "print(\"Cipher text is: \")\n",
    "for i in range(len(plain)):\n",
    "    nu=cipher_num[i]\n",
    "    if i not in l:\n",
    "        if i not in list2:\n",
    "            num=chr(nu+97)\n",
    "            print(num,end='')\n",
    "        else:\n",
    "            print(end=' ')\n",
    "    else:\n",
    "        num=chr(nu+65)\n",
    "        print(num,end='')"
   ]
  },
  {
   "cell_type": "markdown",
   "metadata": {},
   "source": [
    "# Deciphering the cipher text"
   ]
  },
  {
   "cell_type": "code",
   "execution_count": 23,
   "metadata": {},
   "outputs": [],
   "source": [
    "plain_text=[]\n",
    "for i in range(len(plain)):\n",
    "    x=cipher_num[i]-z[i]\n",
    "    if(x<0):\n",
    "        plain_text.append(x+26)\n",
    "    else:\n",
    "        plain_text.append(x)"
   ]
  },
  {
   "cell_type": "code",
   "execution_count": 24,
   "metadata": {},
   "outputs": [
    {
     "name": "stdout",
     "output_type": "stream",
     "text": [
      "Original text is: \n",
      "Hi RouNak KaiSe Ho"
     ]
    }
   ],
   "source": [
    "print(\"Original text is: \")\n",
    "for i in range(len(plain)):\n",
    "    if i not in y_list:\n",
    "        if i not in l:\n",
    "            print(chr(plain_text[i]+97),end='')\n",
    "        else:\n",
    "            print(chr(plain_text[i]+65),end='')\n",
    "    else:\n",
    "        print(end=' ')"
   ]
  },
  {
   "cell_type": "code",
   "execution_count": null,
   "metadata": {},
   "outputs": [],
   "source": []
  }
 ],
 "metadata": {
  "kernelspec": {
   "display_name": "Python 3",
   "language": "python",
   "name": "python3"
  },
  "language_info": {
   "codemirror_mode": {
    "name": "ipython",
    "version": 3
   },
   "file_extension": ".py",
   "mimetype": "text/x-python",
   "name": "python",
   "nbconvert_exporter": "python",
   "pygments_lexer": "ipython3",
   "version": "3.8.1"
  }
 },
 "nbformat": 4,
 "nbformat_minor": 2
}
