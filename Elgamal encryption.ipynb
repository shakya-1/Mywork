{
 "cells": [
  {
   "cell_type": "code",
   "execution_count": null,
   "metadata": {},
   "outputs": [],
   "source": [
    "import random  \n",
    "from math import pow\n",
    "  \n",
    "a = random.randint(2, 10) \n",
    "  \n",
    "def gcd(a, b): \n",
    "    if a < b: \n",
    "        return gcd(b, a) \n",
    "    elif a % b == 0: \n",
    "        return b; \n",
    "    else: \n",
    "        return gcd(b, a % b) \n",
    "    \n",
    "# Generating large random numbers\n",
    "def gen_key(q): \n",
    "  \n",
    "    key = random.randint(pow(10, 20), q) \n",
    "    while gcd(q, key) != 1: \n",
    "        key = random.randint(pow(10, 20), q) \n",
    "  \n",
    "    return key \n",
    "  \n",
    "# Modular exponentiation \n",
    "def power(a, b, c): \n",
    "    x = 1\n",
    "    y = a \n",
    "  \n",
    "    while b > 0: \n",
    "        if b % 2 == 0: \n",
    "            x = (x * y) % c; \n",
    "        y = (y * y) % c \n",
    "        b = int(b / 2) \n",
    "  \n",
    "    return x % c \n",
    "  \n",
    "# Asymmetric encryption \n",
    "def encrypt(msg, q, h, g): \n",
    "  \n",
    "    en_msg = [] \n",
    "  \n",
    "    k = gen_key(q)# Private key for sender \n",
    "    s = power(h, k, q) \n",
    "    p = power(g, k, q) \n",
    "      \n",
    "    for i in range(0, len(msg)): \n",
    "        en_msg.append(msg[i]) \n",
    "  \n",
    "    print(\"g^k used : \", p) \n",
    "    print(\"g^ak used : \", s) \n",
    "    for i in range(0, len(en_msg)): \n",
    "        en_msg[i] = s * ord(en_msg[i]) \n",
    "    return en_msg, p \n",
    "  \n",
    "def decrypt(en_msg, p, key, q): \n",
    "  \n",
    "    dr_msg = [] \n",
    "    h = power(p, key, q) \n",
    "    for i in range(0, len(en_msg)): \n",
    "        dr_msg.append(chr(int(en_msg[i]/h))) \n",
    "          \n",
    "    return dr_msg "
   ]
  },
  {
   "cell_type": "code",
   "execution_count": 7,
   "metadata": {},
   "outputs": [
    {
     "name": "stdout",
     "output_type": "stream",
     "text": [
      "Enter the message to be encrypted:how are you\n",
      "Original Message : how are you\n",
      "g used :  550974092344518381343005526943437473125123778403\n",
      "g^a used :  17224553620152580048305056164767673153324085638009\n",
      "g^k used :  17743416452750308525889497269269036874067102766799\n",
      "g^ak used :  18826051273417907296192399113704108848821340527191\n",
      "Decrypted Message : how are you\n"
     ]
    }
   ],
   "source": [
    "plain = input(\"Enter the message to be encrypted:\")\n",
    "print(\"Plain text is:\", plain) \n",
    "  \n",
    "q = random.randint(pow(10, 20), pow(10, 50)) \n",
    "g = random.randint(2, q) \n",
    "  \n",
    "key = gen_key(q)# Private key for receiver \n",
    "h = power(g, key, q) \n",
    "print(\"g used : \", g) \n",
    "print(\"g^a used : \", h) \n",
    "  \n",
    "en_msg, p = encrypt(plain, q, h, g) \n",
    "dr_msg = decrypt(en_msg, p, key, q) \n",
    "dmsg = ''.join(dr_msg) \n",
    "print(\"Message after decryption:\", dmsg); "
   ]
  }
 ],
 "metadata": {
  "kernelspec": {
   "display_name": "Python 3",
   "language": "python",
   "name": "python3"
  },
  "language_info": {
   "codemirror_mode": {
    "name": "ipython",
    "version": 3
   },
   "file_extension": ".py",
   "mimetype": "text/x-python",
   "name": "python",
   "nbconvert_exporter": "python",
   "pygments_lexer": "ipython3",
   "version": "3.8.2"
  }
 },
 "nbformat": 4,
 "nbformat_minor": 4
}
