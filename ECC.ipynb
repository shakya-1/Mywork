{
 "cells": [
  {
   "cell_type": "code",
   "execution_count": 12,
   "metadata": {},
   "outputs": [
    {
     "name": "stdout",
     "output_type": "stream",
     "text": [
      "private key is: 0x5154eaab4b2aae91ad80eee9c7c2c672ad39e351ffae116e79331007afe6960deb88193c856a45df\n",
      "public key is: 0xa3e611540cc9e66d376f98aa92b9711ab2b4dc27b1ab34e0373e8521024c38f262093709a72a86380\n",
      "ciphertext pubKey is: 0x79b4faa29c834f11a779a24ce493a03353851f68cc14c5b36c49e4aacbdddeb7012ca8aeddcb8e311\n",
      "encryption key is: 0x12834a323feed9c42dcdee339c05533f82d81b93af38681a4c425b8c9d1ae99fe7a2b41c01634dd31\n",
      "decryption key is: 0x12834a323feed9c42dcdee339c05533f82d81b93af38681a4c425b8c9d1ae99fe7a2b41c01634dd31\n"
     ]
    }
   ],
   "source": [
    "from tinyec import registry\n",
    "import secrets\n",
    "\n",
    "c = registry.get_curve('brainpoolP320r1') \n",
    "\n",
    "def compressionpt(point):\n",
    "    return hex(point.x) + hex(point.y % 2)[2:]    #calculation of compression point\n",
    "\n",
    "def calc_ecc_encryption_keys(public_Key):\n",
    "    ciphertext_PrivKey = secrets.randbelow(c.field.n)\n",
    "    ciphertext_PubKey = ciphertext_PrivKey * c.g         #calculation of encryption keys\n",
    "    sharedECCKey = public_Key * ciphertext_PrivKey\n",
    "    return (sharedECCKey, ciphertext_PubKey)\n",
    "\n",
    "def calc_ecc_decryption_key(private_Key, ciphertext_PubKey):\n",
    "    sharedECCKey = ciphertext_PubKey * private_Key\n",
    "    return sharedECCKey                                    #calculation of decryption keys\n",
    "\n",
    "private_Key = secrets.randbelow(c.field.n)\n",
    "public_Key = private_Key * c.g\n",
    "print(\"private key is:\", hex(private_Key))                        #calculation of private and public keys\n",
    "print(\"public key is:\", compressionpt(public_Key))\n",
    "\n",
    "(encrypt_Key, ciphertext_PubKey) = calc_ecc_encryption_keys(public_Key)\n",
    "print(\"ciphertext pubKey is:\", compressionpt(ciphertext_PubKey))\n",
    "print(\"encryption key is:\", compressionpt(encrypt_Key))\n",
    "\n",
    "decrypt_Key = calc_ecc_decryption_key(private_Key, ciphertext_PubKey)\n",
    "print(\"decryption key is:\", compressionpt(decrypt_Key))"
   ]
  }
 ],
 "metadata": {
  "kernelspec": {
   "display_name": "Python 3",
   "language": "python",
   "name": "python3"
  },
  "language_info": {
   "codemirror_mode": {
    "name": "ipython",
    "version": 3
   },
   "file_extension": ".py",
   "mimetype": "text/x-python",
   "name": "python",
   "nbconvert_exporter": "python",
   "pygments_lexer": "ipython3",
   "version": "3.8.2"
  }
 },
 "nbformat": 4,
 "nbformat_minor": 4
}
