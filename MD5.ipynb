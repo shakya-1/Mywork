{
 "cells": [
  {
   "cell_type": "code",
   "execution_count": 17,
   "metadata": {},
   "outputs": [],
   "source": [
    "plain_text=\"This is an article about the cryptography algorithm\"\n",
    "bytes=\"\"\n",
    "for i in range(len(plain_text)):\n",
    "    bytes+='{0:08b}'.format(ord(plain_text[i]))\n",
    "    bits = bytes+\"1\"\n",
    "    pBits = bits\n",
    "    #pad until length equals 448 mod 512\n",
    "    while len(pBits)%512 != 448:\n",
    "        pBits+=\"0\"\n",
    "    #append the original length\n",
    "    pBits+='{0:064b}'.format(len(bits)-1)\n",
    "x=int(len(pBits)/512)"
   ]
  },
  {
   "cell_type": "markdown",
   "metadata": {},
   "source": [
    "# Conversion of data into blocks"
   ]
  },
  {
   "cell_type": "code",
   "execution_count": 18,
   "metadata": {},
   "outputs": [],
   "source": [
    "M=[]\n",
    "for i in range(x):\n",
    "    y=512*i\n",
    "    z=512*(i+1)\n",
    "    #print(y,z)\n",
    "    #M.append([])\n",
    "    M.append(pBits[y:z])\n",
    "#M"
   ]
  },
  {
   "cell_type": "markdown",
   "metadata": {},
   "source": [
    "# Creating words of data"
   ]
  },
  {
   "cell_type": "code",
   "execution_count": 46,
   "metadata": {},
   "outputs": [],
   "source": [
    "num_blocks=len(M)\n",
    "#print(num_blocks)\n",
    "W=[]\n",
    "for i in range(num_blocks):\n",
    "    W.append([])\n",
    "    for j in range(16):\n",
    "        y=32*j\n",
    "        z=32*(j+1)    \n",
    "        W[i].append(M[i][y:z])"
   ]
  },
  {
   "cell_type": "markdown",
   "metadata": {},
   "source": [
    "# Initialization of words in buffer"
   ]
  },
  {
   "cell_type": "code",
   "execution_count": 111,
   "metadata": {},
   "outputs": [],
   "source": [
    "A= '0x01234567'\n",
    "B= '0x89abcdef'\n",
    "C= '0xfedcba98'\n",
    "D= '0x76543210'"
   ]
  },
  {
   "cell_type": "markdown",
   "metadata": {},
   "source": [
    "# Table for speed up"
   ]
  },
  {
   "cell_type": "code",
   "execution_count": 21,
   "metadata": {},
   "outputs": [],
   "source": [
    "import math\n",
    "K={}\n",
    "for i in range(1,65):\n",
    "    K[i]=abs(math.sin(i+1))*(2**32)"
   ]
  },
  {
   "cell_type": "markdown",
   "metadata": {},
   "source": [
    "# Auxiliary functions"
   ]
  },
  {
   "cell_type": "code",
   "execution_count": 22,
   "metadata": {},
   "outputs": [],
   "source": [
    "def F(x,y,z):\n",
    "    return(((x and y) or (not(x) and z)))\n",
    "\n",
    "def G(x,y,z):\n",
    "    return(((x and z) or (y and not(z))))\n",
    "\n",
    "def H(x,y,z):\n",
    "    return(x^y^z)\n",
    "\n",
    "def I(x,y,z):\n",
    "    return(((y^(x or not(z)))))"
   ]
  },
  {
   "cell_type": "code",
   "execution_count": 23,
   "metadata": {},
   "outputs": [],
   "source": [
    "#calculation of addition modulo 2^32\n",
    "def am(w,x,y=0,z=0):\n",
    "    return hex((w+x+y+z)%(2**32))\n",
    "\n",
    "def update(A,B,C,D):\n",
    "    x=B;y=C;z=D;\n",
    "    B=A;A=z;C=x;D=y;\n",
    "    return(A,B,C,D)"
   ]
  },
  {
   "cell_type": "code",
   "execution_count": 112,
   "metadata": {},
   "outputs": [],
   "source": [
    "for i in range(num_blocks):\n",
    "    for j in range(16):\n",
    "            A=am(int(B,16),(int(am(int(A,16),int(F(B,C,D),16),int(W[i][j],2),int(K[j+1])),16)<<5))\n",
    "            if(len(A[2:])==7):\n",
    "                A=A[:2]+'0'+A[2:]\n",
    "    update(A,B,C,D)\n",
    "    for j in range(16):\n",
    "            A=am(int(B,16),(int(am(int(A,16),int(G(B,C,D),16),int(W[i][j],2),int(K[j+17])),16)<<5))\n",
    "            if(len(A[2:])==7):\n",
    "                A=A[:2]+'0'+A[2:]\n",
    "    update(A,B,C,D)\n",
    "    for j in range(16):\n",
    "            A=am(int(B,16),(int(am(int(A,16),H(int(B,16),int(C,16),int(D,16)),int(W[i][j],2),int(K[j+33])),16)<<5))\n",
    "            if(len(A[2:])==7):\n",
    "                A=A[:2]+'0'+A[2:]\n",
    "    update(A,B,C,D)\n",
    "    for j in range(16):\n",
    "            A=am(int(B,16),(int(am(int(A,16),I(int(B,16),int(C,16),int(D,16)),int(W[i][j],2),int(K[j+49])),16)<<5))\n",
    "            if(len(A[2:])==7):\n",
    "                A=A[:2]+'0'+A[2:]\n",
    "    update(A,B,C,D)  "
   ]
  },
  {
   "cell_type": "code",
   "execution_count": 113,
   "metadata": {
    "scrolled": false
   },
   "outputs": [
    {
     "name": "stdout",
     "output_type": "stream",
     "text": [
      "Message digest is:0b9a74cf89abcdeffedcba9876543210"
     ]
    }
   ],
   "source": [
    "print(\"Message digest is:\",end='')\n",
    "print(A[2:],end='')\n",
    "print(B[2:],end='')\n",
    "print(C[2:],end='')\n",
    "print(D[2:],end='')"
   ]
  }
 ],
 "metadata": {
  "kernelspec": {
   "display_name": "Python 3",
   "language": "python",
   "name": "python3"
  },
  "language_info": {
   "codemirror_mode": {
    "name": "ipython",
    "version": 3
   },
   "file_extension": ".py",
   "mimetype": "text/x-python",
   "name": "python",
   "nbconvert_exporter": "python",
   "pygments_lexer": "ipython3",
   "version": "3.8.2"
  }
 },
 "nbformat": 4,
 "nbformat_minor": 4
}
