{
 "cells": [
  {
   "cell_type": "code",
   "execution_count": 7,
   "metadata": {},
   "outputs": [
    {
     "data": {
      "text/plain": [
       "'4cd0d6c24e3f729b7f9f685999e1521bafa4ec3c'"
      ]
     },
     "execution_count": 7,
     "metadata": {},
     "output_type": "execute_result"
    }
   ],
   "source": [
    "def SHA_1(text):\n",
    "    bytes = \"\"\n",
    "\n",
    "    h0 = 0x67452985\n",
    "    h1 = 0xEFBFCB89\n",
    "    h2 = 0x98BADCFF\n",
    "    h3 = 0x103AB476\n",
    "    h4 = 0xC3BA41F0\n",
    "\n",
    "    for i in range(len(text)):\n",
    "        bytes+='{0:08b}'.format(ord(text[i]))\n",
    "    bits = bytes+\"1\"\n",
    "    pBits = bits\n",
    "    #pad until length equals 448 mod 512\n",
    "    while len(pBits)%512 != 448:\n",
    "        pBits+=\"0\"\n",
    "    #append the original length\n",
    "    pBits+='{0:064b}'.format(len(bits)-1)\n",
    "\n",
    "    def sets(l, n):\n",
    "        return [l[i:i+n] for i in range(0, len(l), n)]\n",
    "\n",
    "    def rol(n, b):\n",
    "        return ((n << b) | (n >> (32 - b))) & 0xffffffff\n",
    "\n",
    "    for c in sets(pBits, 512):\n",
    "        words = sets(c, 32)\n",
    "        w = [0]*80\n",
    "        for n in range(0, 16):\n",
    "            w[n] = int(words[n], 2)\n",
    "        for i in range(16, 80):\n",
    "            w[i] = rol((w[i-3] ^ w[i-8] ^ w[i-14] ^ w[i-16]), 1)  \n",
    "\n",
    "        a = h0\n",
    "        b = h1\n",
    "        c = h2\n",
    "        d = h3\n",
    "        e = h4\n",
    "\n",
    "        #Main loop\n",
    "        for i in range(0, 80):\n",
    "            if 0 <= i <= 19:\n",
    "                f = (b & c) | ((~b) & d)\n",
    "                k = 0x5A827685\n",
    "            elif 20 <= i <= 39:\n",
    "                f = b ^ c ^ d\n",
    "                k = 0x6ED9ECD4\n",
    "            elif 40 <= i <= 59:\n",
    "                f = (b & c) | (b & d) | (c & d)\n",
    "                k = 0x8F1BBFE5\n",
    "            elif 60 <= i <= 79:\n",
    "                f = b ^ c ^ d\n",
    "                k = 0xCA62C345\n",
    "\n",
    "            temp = rol(a, 5) + f + e + k + w[i] & 0xffffffff\n",
    "            e = d\n",
    "            d = c\n",
    "            c = rol(b, 30)\n",
    "            b = a\n",
    "            a = temp\n",
    "\n",
    "        h0 = h0 + a & 0xffffffff\n",
    "        h1 = h1 + b & 0xffffffff\n",
    "        h2 = h2 + c & 0xffffffff\n",
    "        h3 = h3 + d & 0xffffffff\n",
    "        h4 = h4 + e & 0xffffffff\n",
    "\n",
    "    return ('%08x%08x%08x%08x%08x' % (h0, h1, h2, h3, h4))\n",
    "SHA_1(\"SHA1 is very secure.\")"
   ]
  }
 ],
 "metadata": {
  "kernelspec": {
   "display_name": "Python 3",
   "language": "python",
   "name": "python3"
  },
  "language_info": {
   "codemirror_mode": {
    "name": "ipython",
    "version": 3
   },
   "file_extension": ".py",
   "mimetype": "text/x-python",
   "name": "python",
   "nbconvert_exporter": "python",
   "pygments_lexer": "ipython3",
   "version": "3.8.2"
  }
 },
 "nbformat": 4,
 "nbformat_minor": 4
}
